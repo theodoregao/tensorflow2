{
 "cells": [
  {
   "cell_type": "code",
   "execution_count": null,
   "id": "39ce1cbe",
   "metadata": {},
   "outputs": [],
   "source": [
    "import pickle\n",
    "import os\n",
    "import numpy as np\n",
    "import matplotlib.pyplot as plt\n",
    "from matplotlib.pyplot import imshow\n",
    "%matplotlib inline\n",
    "\n",
    "CIFAR_DIR = './cifar-10-batches-py'\n",
    "os.listdir(CIFAR_DIR)\n",
    "with  open(os.path.join(CIFAR_DIR,'data_batch_1'), 'rb') as f:\n",
    "    data =  pickle.load(f, encoding='latin1')\n",
    "    print((data.keys()))\n",
    "    print(data['batch_label'])\n",
    "    print(type(data['data']))\n",
    "    print(type(data['labels']))\n",
    "    print(type(data['filenames']))\n",
    "    index = 100\n",
    "    print(data['data'][index])\n",
    "    print(data['labels'][index])\n",
    "    print(data['filenames'][index])\n",
    "    \n",
    "    img = data['data'][index].reshape(3, 32, 32)\n",
    "    imshow(img.transpose(1, 2, 0))"
   ]
  },
  {
   "cell_type": "code",
   "execution_count": null,
   "id": "ad8852a9",
   "metadata": {},
   "outputs": [],
   "source": []
  }
 ],
 "metadata": {
  "kernelspec": {
   "display_name": "Python 3 (ipykernel)",
   "language": "python",
   "name": "python3"
  },
  "language_info": {
   "codemirror_mode": {
    "name": "ipython",
    "version": 3
   },
   "file_extension": ".py",
   "mimetype": "text/x-python",
   "name": "python",
   "nbconvert_exporter": "python",
   "pygments_lexer": "ipython3",
   "version": "3.9.6"
  }
 },
 "nbformat": 4,
 "nbformat_minor": 5
}
