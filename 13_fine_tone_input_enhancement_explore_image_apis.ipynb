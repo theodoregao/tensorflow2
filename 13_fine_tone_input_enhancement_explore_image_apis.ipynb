{
 "cells": [
  {
   "cell_type": "code",
   "execution_count": null,
   "id": "11b02c3c",
   "metadata": {},
   "outputs": [],
   "source": [
    "import tensorflow.compat.v1 as tf\n",
    "tf.disable_v2_behavior()\n",
    "import numpy as np\n",
    "import matplotlib.pyplot as plt\n",
    "from matplotlib.pyplot import imshow\n",
    "%matplotlib inline\n"
   ]
  },
  {
   "cell_type": "code",
   "execution_count": null,
   "id": "4f561042",
   "metadata": {},
   "outputs": [],
   "source": [
    "image_dir = \"./img/Gugong.jpeg\"\n",
    "img_string = tf.read_file(image_dir)\n",
    "img_decoded = tf.image.decode_image(img_string)\n",
    "sess = tf.Session()\n",
    "img_decoded_val = sess.run(img_decoded)\n",
    "print(img_decoded_val.shape)\n",
    "\n",
    "imshow(img_decoded_val)"
   ]
  },
  {
   "cell_type": "code",
   "execution_count": null,
   "id": "df006af0",
   "metadata": {},
   "outputs": [],
   "source": [
    "# resize\n",
    "# tf.image.resize_area\n",
    "# tf.image.resize_bicubic\n",
    "# tf.image.resize_nearest_neighbor\n",
    "\n",
    "image_dir = \"./img/Gugong.jpeg\"\n",
    "img_string = tf.read_file(image_dir)\n",
    "img_decoded = tf.image.decode_image(img_string)\n",
    "img_decoded = tf.reshape(img_decoded, [1, 480, 640, 3])\n",
    "img_decoded = tf.image.resize_bicubic(img_decoded, [960, 1280])\n",
    "sess = tf.Session()\n",
    "img_decoded_val = sess.run(img_decoded)\n",
    "img_decoded_val = img_decoded_val.reshape((960, 1280, 3))\n",
    "img_decoded_val = np.asarray(img_decoded_val, np.uint8)\n",
    "print(img_decoded_val.shape)\n",
    "\n",
    "imshow(img_decoded_val)"
   ]
  },
  {
   "cell_type": "code",
   "execution_count": null,
   "id": "556b34a4",
   "metadata": {},
   "outputs": [],
   "source": [
    "# crop\n",
    "# tf.image.pad_to_bounding_box\n",
    "# tf.image.crop_to_bounding_box\n",
    "# tf.random_crop\n",
    "\n",
    "image_dir = \"./img/Gugong.jpeg\"\n",
    "img_string = tf.read_file(image_dir)\n",
    "img_decoded = tf.image.decode_image(img_string)\n",
    "img_decoded = tf.reshape(img_decoded, [1, 480, 640, 3])\n",
    "img_decoded = tf.image.pad_to_bounding_box(img_decoded, 150, 200, 700, 900)\n",
    "sess = tf.Session()\n",
    "img_decoded_val = sess.run(img_decoded)\n",
    "img_decoded_val = img_decoded_val.reshape((700, 900, 3))\n",
    "img_decoded_val = np.asarray(img_decoded_val, np.uint8)\n",
    "print(img_decoded_val.shape)\n",
    "\n",
    "imshow(img_decoded_val)"
   ]
  },
  {
   "cell_type": "code",
   "execution_count": null,
   "id": "fb905843",
   "metadata": {},
   "outputs": [],
   "source": [
    "# flip\n",
    "# tf.image.flip_up_down\n",
    "# tf.image.flip_left_right\n",
    "# tf.image.random_flip_up_down\n",
    "# tf.image.random_left_right\n",
    "\n",
    "image_dir = \"./img/Gugong.jpeg\"\n",
    "img_string = tf.read_file(image_dir)\n",
    "img_decoded = tf.image.decode_image(img_string)\n",
    "img_decoded = tf.reshape(img_decoded, [1, 480, 640, 3])\n",
    "img_decoded = tf.image.flip_up_down(img_decoded)\n",
    "sess = tf.Session()\n",
    "img_decoded_val = sess.run(img_decoded)\n",
    "img_decoded_val = img_decoded_val.reshape((480, 640, 3))\n",
    "img_decoded_val = np.asarray(img_decoded_val, np.uint8)\n",
    "print(img_decoded_val.shape)\n",
    "\n",
    "imshow(img_decoded_val)"
   ]
  },
  {
   "cell_type": "code",
   "execution_count": null,
   "id": "c1dff181",
   "metadata": {},
   "outputs": [],
   "source": [
    "# brightness\n",
    "# tf.image.adjust_brightness\n",
    "# tf.image.random_brightness\n",
    "# tf.image.adjust_constrast\n",
    "# tf.image.random_constrast\n",
    "\n",
    "image_dir = \"./img/Gugong.jpeg\"\n",
    "img_string = tf.read_file(image_dir)\n",
    "img_decoded = tf.image.decode_image(img_string)\n",
    "img_decoded = tf.reshape(img_decoded, [1, 480, 640, 3])\n",
    "img_decoded = tf.image.random_brightness(img_decoded, max_delta=0.5)\n",
    "sess = tf.Session()\n",
    "img_decoded_val = sess.run(img_decoded)\n",
    "img_decoded_val = img_decoded_val.reshape((480, 640, 3))\n",
    "img_decoded_val = np.asarray(img_decoded_val, np.uint8)\n",
    "print(img_decoded_val.shape)\n",
    "\n",
    "imshow(img_decoded_val)"
   ]
  }
 ],
 "metadata": {
  "kernelspec": {
   "display_name": "Python 3 (ipykernel)",
   "language": "python",
   "name": "python3"
  },
  "language_info": {
   "codemirror_mode": {
    "name": "ipython",
    "version": 3
   },
   "file_extension": ".py",
   "mimetype": "text/x-python",
   "name": "python",
   "nbconvert_exporter": "python",
   "pygments_lexer": "ipython3",
   "version": "3.9.6"
  }
 },
 "nbformat": 4,
 "nbformat_minor": 5
}
