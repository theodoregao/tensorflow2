{
 "cells": [
  {
   "cell_type": "code",
   "execution_count": null,
   "id": "398870e7",
   "metadata": {},
   "outputs": [],
   "source": [
    "import os\n",
    "import sys\n",
    "import jieba\n",
    "\n",
    "train_file = './cnews_data/cnews.train.txt'\n",
    "val_file = './cnews_data/cnews.val.txt'\n",
    "test_file = './cnews_data/cnews.test.txt'\n",
    "\n",
    "seg_train_file = './cnews_data/cnews.train.seg.txt'\n",
    "seg_val_file = './cnews_data/cnews.val.seg.txt'\n",
    "seg_test_file = './cnews_data/cnews.test.seg.txt'\n",
    "\n",
    "vocab_file = './cnews_data/cnews.vocab.txt'\n",
    "category_file = './cnews_data/cnews.category.txt'"
   ]
  },
  {
   "cell_type": "code",
   "execution_count": null,
   "id": "e97ecdd6",
   "metadata": {},
   "outputs": [],
   "source": [
    "with open(val_file, 'r') as f:\n",
    "    lines = f.readlines()\n",
    "\n",
    "print(lines[0])\n",
    "label, content = lines[0].strip('\\r\\n').split('\\t')\n",
    "word_iter = jieba.cut(content)\n",
    "\n",
    "print('after cut:')\n",
    "print('/ '.join(word_iter))"
   ]
  },
  {
   "cell_type": "code",
   "execution_count": null,
   "id": "41d103e2",
   "metadata": {},
   "outputs": [],
   "source": [
    "def generate_seg_word_file(input_file, output_seg_file):\n",
    "    print('start seg file %s to %s' % (input_file, output_seg_file))\n",
    "    with open(input_file, 'r') as f:\n",
    "        lines = f.readlines()\n",
    "    with open(output_seg_file, 'w') as f:\n",
    "        n = 0\n",
    "        l = len(lines)\n",
    "        for line in lines:\n",
    "            label, content = line.strip('\\r\\n').split('\\t')\n",
    "            word_iter = jieba.cut(content)\n",
    "            word_content = ''\n",
    "            for word in word_iter:\n",
    "                word = word.strip(' ')\n",
    "                if word != '':\n",
    "                    word_content += word + ' '\n",
    "            out_line = '%s\\t%s\\n' % (label, word_content.strip(' '))\n",
    "            n = n + 1\n",
    "            print('%d/%d' % (n, l))\n",
    "            f.write(out_line)\n",
    "    print('done seg file %s to %s' % (input_file, output_seg_file))\n"
   ]
  },
  {
   "cell_type": "code",
   "execution_count": null,
   "id": "58083844",
   "metadata": {},
   "outputs": [],
   "source": [
    "generate_seg_word_file(train_file, seg_train_file)\n",
    "generate_seg_word_file(val_file, seg_val_file)\n",
    "generate_seg_word_file(test_file, seg_test_file)"
   ]
  },
  {
   "cell_type": "code",
   "execution_count": null,
   "id": "6c0bb9ea",
   "metadata": {},
   "outputs": [],
   "source": [
    "def generate_vocab_file(input_seg_file, output_vocab_file):\n",
    "    with open(input_seg_file, 'r') as f:\n",
    "        lines = f.readlines()\n",
    "    word_dict = {}\n",
    "    for line in lines:\n",
    "        label, contents = line.strip('\\r\\n').split('\\t')\n",
    "        for word in contents.split():\n",
    "            word_dict.setdefault(word, 0)\n",
    "            word_dict[word] += 1\n",
    "    sorted_word_dict = sorted(word_dict.items(), key = lambda d:d[1], reverse=True)\n",
    "    with open(output_vocab_file, 'w') as f:\n",
    "        f.write('<UNK>\\t1000000\\n')\n",
    "        for item in sorted_word_dict:\n",
    "            f.write('%s\\t%d\\n' % (item[0], item[1]))\n",
    "            \n",
    "generate_vocab_file(seg_train_file, vocab_file)"
   ]
  },
  {
   "cell_type": "code",
   "execution_count": null,
   "id": "e9ad8aaf",
   "metadata": {},
   "outputs": [],
   "source": [
    "def generate_category_dic(input_file, category_file):\n",
    "    with open(input_file, 'r') as f:\n",
    "        lines = f.readlines()\n",
    "    category_dict = {}\n",
    "    for line in lines:\n",
    "        label, contents = line.strip('\\r\\n').split('\\t')\n",
    "        category_dict.setdefault(label, 0)\n",
    "        category_dict[label] += 1\n",
    "    category_number = len(category_dict)\n",
    "    with open(category_file, 'w') as f:\n",
    "        for category in category_dict:\n",
    "            line = '%s\\n' % category\n",
    "            print('%s\\t%d' % (category, category_dict[category]))\n",
    "            f.write(line)\n",
    "    \n",
    "generate_category_dic(train_file, category_file)"
   ]
  },
  {
   "cell_type": "code",
   "execution_count": null,
   "id": "9e8ed3b9",
   "metadata": {},
   "outputs": [],
   "source": []
  }
 ],
 "metadata": {
  "kernelspec": {
   "display_name": "Python 3 (ipykernel)",
   "language": "python",
   "name": "python3"
  },
  "language_info": {
   "codemirror_mode": {
    "name": "ipython",
    "version": 3
   },
   "file_extension": ".py",
   "mimetype": "text/x-python",
   "name": "python",
   "nbconvert_exporter": "python",
   "pygments_lexer": "ipython3",
   "version": "3.9.6"
  }
 },
 "nbformat": 4,
 "nbformat_minor": 5
}
